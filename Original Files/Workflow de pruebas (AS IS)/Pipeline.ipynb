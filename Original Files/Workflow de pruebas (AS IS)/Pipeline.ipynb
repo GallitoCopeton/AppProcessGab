{
 "cells": [
  {
   "cell_type": "code",
   "execution_count": null,
   "metadata": {
    "collapsed": false
   },
   "outputs": [],
   "source": [
    "import numpy as np\n",
    "import cv2\n",
    "import operator\n",
    "from matplotlib import pyplot as plt\n",
    "import sys \n",
    "import pprint\n",
    "\n",
    "#Scripts para leer y procesar imagen\n",
    "sys.path.insert(0, '../Golden Master (AS IS)')\n",
    "import readImage\n",
    "import preProcessing as pPs\n",
    "import processing as pP"
   ]
  },
  {
   "cell_type": "code",
   "execution_count": null,
   "metadata": {
    "collapsed": true
   },
   "outputs": [],
   "source": [
    "input = ['601170500100271']\n",
    "output = []"
   ]
  },
  {
   "cell_type": "code",
   "execution_count": null,
   "metadata": {
    "collapsed": false
   },
   "outputs": [],
   "source": [
    "### Read Image\n",
    "outputRI = readImage.readImage(input[0], count = 1)\n",
    "#save output log to DB (optional)\n",
    "#display image (optional)"
   ]
  },
  {
   "cell_type": "code",
   "execution_count": null,
   "metadata": {
    "collapsed": true
   },
   "outputs": [],
   "source": [
    "### Image Quality Test\n",
    "## Return 1 if it is blurry\n",
    "blurry = pPs.isBlurry(outputRI)"
   ]
  },
  {
   "cell_type": "code",
   "execution_count": null,
   "metadata": {
    "collapsed": false
   },
   "outputs": [],
   "source": [
    "## Find Biggest Square\n",
    "##  Find Counturs Biggest Square\n",
    "##  Sort points of every contour\n",
    "##  Perspective Transform for Biggest Square\n",
    "inputBS = outputRI\n",
    "outputBS = pP.biggestSquare(inputBS)"
   ]
  },
  {
   "cell_type": "code",
   "execution_count": null,
   "metadata": {
    "collapsed": false
   },
   "outputs": [],
   "source": [
    "## Find X-Markers Group (a.k.a. Test Square)\n",
    "##   Set perspective X-Markers Group\n",
    "##   Adjust Offset X-Markers Group601170500100271\n",
    "##   Binarize X-Markers Group \n",
    "##   Find Contours using Binarized X-Markers Group\n",
    "##   Keep copy of RGB image for later use\n",
    "inputXG = outputBS\n",
    "outputXG = pP.findXMGroup(inputXG)"
   ]
  },
  {
   "cell_type": "code",
   "execution_count": null,
   "metadata": {
    "collapsed": false
   },
   "outputs": [],
   "source": [
    "### Find Individual X-Markers Boxes (a.k.a. sitios de prueba)\n",
    "inputXB = outputXG\n",
    "outputXB = pP.findXMBox(inputXB)"
   ]
  },
  {
   "cell_type": "code",
   "execution_count": null,
   "metadata": {
    "collapsed": false
   },
   "outputs": [],
   "source": [
    "## X-Marker Analisis (a.k.a. sitios de prueba)\n",
    "##   Apply Mask\n",
    "##   Erosion Dilation\n",
    "##   Blob Detection\n",
    "##   Assses Blob Areas and Assign Results\n",
    "inputXA = outputXB\n",
    "inputXA = pP.analizeXMBlobs(inputXA)"
   ]
  },
  {
   "cell_type": "code",
   "execution_count": null,
   "metadata": {
    "collapsed": false
   },
   "outputs": [],
   "source": [
    "## Save results to disk, db or log\n",
    "if(not isinstance(inputXA, str)):\n",
    "    inputXA['blurry'] = blurry\n",
    "pprint.pprint(inputXA)"
   ]
  }
 ],
 "metadata": {
  "kernelspec": {
   "display_name": "Python 3",
   "language": "python",
   "name": "python3"
  },
  "language_info": {
   "codemirror_mode": {
    "name": "ipython",
    "version": 3
   },
   "file_extension": ".py",
   "mimetype": "text/x-python",
   "name": "python",
   "nbconvert_exporter": "python",
   "pygments_lexer": "ipython3",
   "version": "3.6.0"
  }
 },
 "nbformat": 4,
 "nbformat_minor": 2
}
