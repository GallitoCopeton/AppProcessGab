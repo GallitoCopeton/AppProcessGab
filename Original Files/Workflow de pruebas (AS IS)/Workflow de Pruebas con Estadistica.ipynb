{
 "cells": [
  {
   "cell_type": "code",
   "execution_count": null,
   "metadata": {
    "collapsed": false
   },
   "outputs": [],
   "source": [
    "import processing as pP\n",
    "import pandas as pd\n",
    "import matplotlib.pyplot as pl\n",
    "import numpy as np\n",
    "import confusionMatrix as cM\n",
    "import decisionTree as tree\n",
    "import pymongo"
   ]
  },
  {
   "cell_type": "code",
   "execution_count": null,
   "metadata": {
    "collapsed": true
   },
   "outputs": [],
   "source": [
    "#Constants\n",
    "markers = ['ESAT6', 'CFP10', 'RV1681', 'P24']"
   ]
  },
  {
   "cell_type": "code",
   "execution_count": null,
   "metadata": {
    "collapsed": false
   },
   "outputs": [],
   "source": [
    "#Leer de base de datos de joinedLabApp\n",
    "MONGO_URL = 'mongodb://idenmon.zapto.org:888/'\n",
    "client = pymongo.MongoClient(MONGO_URL)\n",
    "db = client.prodLaboratorio\n",
    "cursor_img_totals = db.joinedLabApp.find({})\n",
    "#Crear dataframe a partir de datos lab\n",
    "df_joinedLabApp = pd.DataFrame(list(cursor_img_totals))\n",
    "df_joinedLabApp = df_joinedLabApp.drop_duplicates('qr')\n",
    "df_joinedLabApp.index = df_joinedLabApp['qr']"
   ]
  },
  {
   "cell_type": "code",
   "execution_count": null,
   "metadata": {
    "collapsed": false
   },
   "outputs": [],
   "source": [
    "columns_selected = [m + '_DIAG' for m in markers] + ['Control', 'CODIGO']\n",
    "columns_selected"
   ]
  },
  {
   "cell_type": "code",
   "execution_count": null,
   "metadata": {
    "collapsed": false
   },
   "outputs": [],
   "source": [
    "df_joinedLabApp = df_joinedLabApp[columns_selected]\n",
    "df_joinedLabApp.head()"
   ]
  },
  {
   "cell_type": "code",
   "execution_count": null,
   "metadata": {
    "collapsed": true
   },
   "outputs": [],
   "source": [
    "suerosD = ['601170500100319','601170500100357',\n",
    "           '601170500100374','601170500100104',\n",
    "           '601170500100407','601170500100391']"
   ]
  },
  {
   "cell_type": "code",
   "execution_count": null,
   "metadata": {
    "collapsed": false,
    "scrolled": true
   },
   "outputs": [],
   "source": [
    "#Define lista de qrs a usar\n",
    "#Sueros dañados\n",
    "qrs = list(df_joinedLabApp.index)\n",
    "for sD in suerosD:\n",
    "    try:\n",
    "        qrs.remove(sD)\n",
    "    except:\n",
    "        pass"
   ]
  },
  {
   "cell_type": "code",
   "execution_count": null,
   "metadata": {
    "collapsed": false
   },
   "outputs": [],
   "source": [
    "#Proceso completo FIND para lista de qrs\n",
    "listResults = []\n",
    "\n",
    "qrsCopy = []\n",
    "for i,qr in enumerate(qrs):\n",
    "    result = pP.multiPipeline(str(qr))\n",
    "    print(qr)\n",
    "    if(not isinstance(result, str)):\n",
    "        listResults += result\n",
    "        for r in result:\n",
    "            qrsCopy.append(qr)\n",
    "    else:\n",
    "        print(\"QR: \" + str(qr) + \" problem: \" + result)\n",
    "        \n",
    "df_algoritmos_resultados = pd.DataFrame.from_records(listResults, index = qrsCopy)\n",
    "df_algoritmos_resultados.head()"
   ]
  },
  {
   "cell_type": "code",
   "execution_count": null,
   "metadata": {
    "collapsed": false
   },
   "outputs": [],
   "source": [
    "#Join dataframes, resultados esperados vs reales\n",
    "df_lab_app_alg = df_joinedLabApp.join(df_algoritmos_resultados)\n",
    "df_lab_app_alg = df_lab_app_alg[df_lab_app_alg.ESAT6_result_area.notnull()]\n",
    "df_lab_app_alg.head()"
   ]
  },
  {
   "cell_type": "markdown",
   "metadata": {
    "collapsed": true
   },
   "source": [
    "#### Estadísticas globales por marcador por algoritmo. DIAG vs result_area vs result_blobs"
   ]
  },
  {
   "cell_type": "code",
   "execution_count": null,
   "metadata": {
    "collapsed": true
   },
   "outputs": [],
   "source": [
    "pos = 'P'\n",
    "neg = 'N'\n",
    "ind = 'I'\n",
    "def safe_div(x,y):\n",
    "    if y == 0:\n",
    "        return 0\n",
    "    return x / y"
   ]
  },
  {
   "cell_type": "code",
   "execution_count": null,
   "metadata": {
    "collapsed": true
   },
   "outputs": [],
   "source": [
    "dfExtendido = pd.DataFrame()"
   ]
  },
  {
   "cell_type": "code",
   "execution_count": null,
   "metadata": {
    "collapsed": false
   },
   "outputs": [],
   "source": [
    "dfExtendido = pd.DataFrame()\n",
    "dfExtendido = df_lab_app_alg\n",
    "proteinas =['CFP10',  'ESAT6',  'RV1681',  'P24']\n",
    "for proteina in proteinas:\n",
    "    dfExtendido[proteina+'_vsBlob'] = np.where((dfExtendido[proteina+'_DIAG']== pos)&(dfExtendido[proteina+'_result_blobs']==pos), 'TP','')\n",
    "    dfExtendido[proteina+'_vsBlob'] = np.where((dfExtendido[proteina+'_DIAG']== pos)&(dfExtendido[proteina+'_result_blobs']==neg), 'FN',dfExtendido[proteina+'_vsBlob'])\n",
    "    dfExtendido[proteina+'_vsBlob'] = np.where((dfExtendido[proteina+'_DIAG']== neg)&(dfExtendido[proteina+'_result_blobs']==neg), 'TN',dfExtendido[proteina+'_vsBlob'])\n",
    "    dfExtendido[proteina+'_vsBlob'] = np.where((dfExtendido[proteina+'_DIAG']== neg)&(dfExtendido[proteina+'_result_blobs']==pos), 'FP',dfExtendido[proteina+'_vsBlob'])\n",
    "    dfExtendido[proteina+'_vsBlob'] = np.where((dfExtendido[proteina+'_DIAG']== ind)|(dfExtendido[proteina+'_result_blobs']==ind), 'IND',dfExtendido[proteina+'_vsBlob'])\n",
    "    dfExtendido[proteina+'_vsBlob'] = np.where((dfExtendido['Control']== ind)|(dfExtendido['Control']==pos), 'INVALID',dfExtendido[proteina+'_vsBlob'])\n",
    "    dfExtendido[proteina+'_vsArea'] = np.where((dfExtendido[proteina+'_DIAG']== pos)&(dfExtendido[proteina+'_result_area']==pos), 'TP','')\n",
    "    dfExtendido[proteina+'_vsArea'] = np.where((dfExtendido[proteina+'_DIAG']== pos)&(dfExtendido[proteina+'_result_area']==neg), 'FN',dfExtendido[proteina+'_vsArea'])\n",
    "    dfExtendido[proteina+'_vsArea'] = np.where((dfExtendido[proteina+'_DIAG']== neg)&(dfExtendido[proteina+'_result_area']==neg), 'TN',dfExtendido[proteina+'_vsArea'])\n",
    "    dfExtendido[proteina+'_vsArea'] = np.where((dfExtendido[proteina+'_DIAG']== neg)&(dfExtendido[proteina+'_result_area']==pos), 'FP',dfExtendido[proteina+'_vsArea'])\n",
    "    dfExtendido[proteina+'_vsArea'] = np.where((dfExtendido[proteina+'_DIAG']== ind)|(dfExtendido[proteina+'_result_area']==ind), 'IND',dfExtendido[proteina+'_vsArea'])\n",
    "    dfExtendido[proteina+'_vsArea'] = np.where((dfExtendido['Control']== ind)|(dfExtendido['Control']==pos), 'INVALID',dfExtendido[proteina+'_vsArea'])\n",
    "dfExtendido.head()"
   ]
  },
  {
   "cell_type": "code",
   "execution_count": null,
   "metadata": {
    "collapsed": false
   },
   "outputs": [],
   "source": [
    "dfExtendido.to_csv('../data/ComparativeBlobvsAreas.csv')"
   ]
  },
  {
   "cell_type": "code",
   "execution_count": null,
   "metadata": {
    "collapsed": false
   },
   "outputs": [],
   "source": [
    "#Blurry \n",
    "dfExtendido = dfExtendido[dfExtendido['blurry'] == 0.0]\n",
    "dfExtendido.head()"
   ]
  },
  {
   "cell_type": "code",
   "execution_count": null,
   "metadata": {
    "collapsed": false
   },
   "outputs": [],
   "source": [
    "g=globals()\n",
    "proteinas =['CFP10',  'ESAT6',  'RV1681',  'P24']\n",
    "for proteina in proteinas:\n",
    "    g['{0}Counts_vsBlobs'.format(proteina)] = dfExtendido[proteina+'_vsBlob'].value_counts()\n",
    "    g['{0}Counts_vsAreas'.format(proteina)] = dfExtendido[proteina+'_vsArea'].value_counts()\n"
   ]
  },
  {
   "cell_type": "code",
   "execution_count": null,
   "metadata": {
    "collapsed": true
   },
   "outputs": [],
   "source": [
    "versiones = ['Blobs', 'Areas'] #automatizarlo para extraer las versiones del DataFrame\n",
    "d={}\n",
    "#for ver, prot in mezclaVersionesProteinas:\n",
    "for ver in versiones:\n",
    "    #v = ver.replace('.','')\n",
    "    for prot in proteinas:\n",
    "        g['{0}'.format(prot)]={}\n",
    "        resProt = g['{0}Counts_vs{1}'.format(prot,ver)]\n",
    "        g['sens_{0}'.format(prot)]= safe_div(resProt.get('TP',0),(resProt.get('TP',0) + resProt.get('FN',0)))\n",
    "        #g['prec_{0}'.format(prot)]= safe_div(resProt.get('TP',0),(resProt.get('TP',0)+resProt.get('FP',0)))\n",
    "        g['specif_{0}'.format(prot)]= safe_div(resProt.get('TN',0), (resProt.get('TN',0)+resProt.get('FP',0)))\n",
    "        g['posPV_{0}'.format(prot)]= safe_div(resProt.get('TP',0),(resProt.get('TP',0)+resProt.get('FP',0)))\n",
    "        g['negPV_{0}'.format(prot)]= safe_div(resProt.get('TN',0),(resProt.get('TN',0)+resProt.get('FN',0)))\n",
    "        g['{0}'.format(prot)].update({'Sensitivity': g['sens_{0}'.format(prot)] })\n",
    "        #g['{0}'.format(prot)].update({'Prescition': g['prec_{0}'.format(prot)] })\n",
    "        g['{0}'.format(prot)].update({'Specificity': g['specif_{0}'.format(prot)] })\n",
    "        g['{0}'.format(prot)].update({'Positive Predictive Value': g['posPV_{0}'.format(prot)] })\n",
    "        g['{0}'.format(prot)].update({'Negative Predictive Value': g['negPV_{0}'.format(prot)] })\n",
    "        totalPruebas = resProt.get('TP',0)+resProt.get('FP',0)+resProt.get('TN',0)+resProt.get('FN',0)+resProt.get('IND',0)\n",
    "        g['{0}'.format(prot)].update({'#TotalPruebas': totalPruebas})\n",
    "        g['{0}'.format(prot)].update({'#TP': resProt.get('TP',0) })\n",
    "        g['{0}'.format(prot)].update({'#FP': resProt.get('FP',0) })\n",
    "        g['{0}'.format(prot)].update({'#TN': resProt.get('TN',0) })\n",
    "        g['{0}'.format(prot)].update({'#FN': resProt.get('FN',0) })\n",
    "        g['{0}'.format(prot)].update({'#Indet': resProt.get('IND',0)})\n",
    "        g['{0}'.format(prot)].update({'#Invalidos': resProt.get('INVALID',0)})\n",
    "        d.update({prot: g['{0}'.format(prot)]})\n",
    "    g['df{0}'.format(ver)] = pd.DataFrame.from_dict(d, orient='Index')"
   ]
  },
  {
   "cell_type": "code",
   "execution_count": null,
   "metadata": {
    "collapsed": false
   },
   "outputs": [],
   "source": [
    "dfAreasT = dfAreas.T\n",
    "dfBlobsT = dfBlobs.T\n",
    "dfComp = dfBlobsT.join(dfAreasT,lsuffix='__vBlobs', rsuffix='__vAreas')\n",
    "dfComp"
   ]
  },
  {
   "cell_type": "code",
   "execution_count": null,
   "metadata": {
    "collapsed": true
   },
   "outputs": [],
   "source": [
    "dfComp.to_csv('../data/StatisticsAlgorithms.csv')"
   ]
  }
 ],
 "metadata": {
  "kernelspec": {
   "display_name": "Python 3",
   "language": "python",
   "name": "python3"
  },
  "language_info": {
   "codemirror_mode": {
    "name": "ipython",
    "version": 3
   },
   "file_extension": ".py",
   "mimetype": "text/x-python",
   "name": "python",
   "nbconvert_exporter": "python",
   "pygments_lexer": "ipython3",
   "version": "3.6.0"
  }
 },
 "nbformat": 4,
 "nbformat_minor": 2
}
