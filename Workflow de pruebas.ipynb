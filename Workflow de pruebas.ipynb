{
 "cells": [
  {
   "cell_type": "markdown",
   "metadata": {},
   "source": [
    "## Workflow de pruebas"
   ]
  },
  {
   "cell_type": "code",
   "execution_count": null,
   "metadata": {
    "collapsed": false
   },
   "outputs": [],
   "source": [
    "import processing as pP\n",
    "import pandas as pd\n",
    "import matplotlib.pyplot as pl\n",
    "import numpy as np\n",
    "import confusionMatrix as cM\n",
    "import decisionTree as tree"
   ]
  },
  {
   "cell_type": "code",
   "execution_count": null,
   "metadata": {
    "collapsed": false,
    "scrolled": true
   },
   "outputs": [],
   "source": [
    "#Read excel results LAB\n",
    "excelLab = pd.ExcelFile(\"../../data/RAppIng.xlsx\")\n",
    "dfLab = excelLab.parse('SimplerSheet')\n",
    "dfLab.index = dfLab['QR']\n",
    "dfLab"
   ]
  },
  {
   "cell_type": "code",
   "execution_count": null,
   "metadata": {
    "collapsed": false
   },
   "outputs": [],
   "source": [
    "#Run FIND Image Process through a list of qrs\n",
    "listResults = []\n",
    "qrs = dfLab[\"QR\"].tolist()\n",
    "qrsCopy = []\n",
    "for i,qr in enumerate(qrs):\n",
    "    result = pP.completePipeline(str(qr))\n",
    "    if(not isinstance(result, str)):\n",
    "        listResults.append(result)\n",
    "        qrsCopy.append(qr)\n",
    "    else:\n",
    "        print(\"QR: \" + str(qr) + \" problem: \" + result)\n",
    "        \n",
    "dfResults = pd.DataFrame.from_records(listResults, index = qrsCopy)\n",
    "dfResults"
   ]
  },
  {
   "cell_type": "code",
   "execution_count": null,
   "metadata": {
    "collapsed": false,
    "scrolled": true
   },
   "outputs": [],
   "source": [
    "dfMerged = dfLab.join(dfResults)\n",
    "dfMerged = dfMerged[dfMerged.E6_result.notnull()]\n",
    "markerNames = ['E6', 'CF', 'RV', 'P24']\n",
    "#Marker results to uppercase\n",
    "for n in markerNames:\n",
    "    dfMerged['ELF_' + n] = dfMerged['ELF_' + n].str.upper()\n",
    "print(dfMerged.columns)\n",
    "dfMerged"
   ]
  },
  {
   "cell_type": "code",
   "execution_count": null,
   "metadata": {
    "collapsed": false
   },
   "outputs": [],
   "source": [
    "dfMerged.to_csv('DataFrameMerged.csv')"
   ]
  },
  {
   "cell_type": "code",
   "execution_count": null,
   "metadata": {
    "collapsed": true
   },
   "outputs": [],
   "source": [
    "dfMerged = pd.DataFrame.from_csv('DataFrameMerged.csv')"
   ]
  },
  {
   "cell_type": "code",
   "execution_count": null,
   "metadata": {
    "collapsed": false
   },
   "outputs": [],
   "source": [
    "markerNames = ['E6', 'CF', 'RV', 'P24']\n",
    "marker = markerNames[0] #E6, CF RV, P24\n",
    "dfMerged.columns"
   ]
  },
  {
   "cell_type": "code",
   "execution_count": null,
   "metadata": {
    "collapsed": false
   },
   "outputs": [],
   "source": [
    "#Histograma para positivos (ELISA), negativos(ELISA), indeterminados (APP)\n",
    "posELISA = dfMerged[dfMerged['ELF_' + marker] == 'P']\n",
    "negELISA = dfMerged[dfMerged['ELF_' + marker] == 'N']\n",
    "indetAPP = dfMerged[dfMerged[marker + '_result'] == 'I']\n",
    "bins = np.linspace(0, 80, 30)\n",
    "pl.hist(posELISA[marker + '_area'], bins, alpha=0.9, label='P (LAB)', color=['r'])\n",
    "pl.hist(negELISA[marker + '_area'], bins, alpha=0.2, label='N (LAB)', color=['b'])\n",
    "pl.hist(indetAPP[marker + '_area'], bins, alpha=0.4, label='I (APP)', color=['g'])\n",
    "pl.legend(loc='upper right')\n",
    "pl.ylabel('Freq')\n",
    "pl.xlabel('Area')\n",
    "pl.savefig('HistE6Area')\n",
    "pl.close()"
   ]
  },
  {
   "cell_type": "code",
   "execution_count": null,
   "metadata": {
    "collapsed": true
   },
   "outputs": [],
   "source": [
    "#Histograma para positivos (ELISA), negativos(ELISA), indeterminados (APP) algoritmo blobs\n",
    "posELISA = dfMerged[dfMerged['ELF_' + marker] == 'P']\n",
    "negELISA = dfMerged[dfMerged['ELF_' + marker] == 'N']\n",
    "indetAPP = dfMerged[dfMerged[marker + '_result'] == 'I']\n",
    "bins = np.linspace(0, 5, 6)\n",
    "pl.hist(posELISA[marker + '_blobs'], bins, alpha=0.9, label='P (LAB)', color=['r'])\n",
    "pl.hist(negELISA[marker + '_blobs'], bins, alpha=0.2, label='N (LAB)', color=['b'])\n",
    "pl.hist(indetAPP[marker + '_blobs'], bins, alpha=0.4, label='I (APP)', color=['g'])\n",
    "pl.legend(loc='upper right')\n",
    "pl.ylabel('Freq')\n",
    "pl.xlabel('Blobs')\n",
    "pl.savefig('HistE6Blobs')\n",
    "pl.close()"
   ]
  },
  {
   "cell_type": "code",
   "execution_count": null,
   "metadata": {
    "collapsed": false
   },
   "outputs": [],
   "source": [
    "#Histogramas para marcadores positivos e indeterminados App\n",
    "# Create variable with TRUE if marker for Lab is P\n",
    "markerLab = dfMerged['ELF_' + marker] == 'P'\n",
    "\n",
    "# Create variable with TRUE if marker in app is I\n",
    "markerApp = dfMerged[marker + '_result'] == 'I'\n",
    "\n",
    "E6PAreas = dfMerged[markerApp]\n",
    "incorrectP = E6PAreas[E6PAreas[marker + '_area'] < 40.17]\n",
    "print(marker)\n",
    "print(\"Number of rows: \" + str(len(E6PAreas)))\n",
    "if (len(E6PAreas) > 0):\n",
    "    print(\"Median: \" + str(np.median(E6PAreas[marker + '_area'])))\n",
    "    print(\"Mean: \" + str(np.mean(E6PAreas[marker + '_area'])))\n",
    "    print(\"Percentile 15: \" + str(np.percentile(E6PAreas[marker + '_area'], 15)))\n",
    "    print(\"Incorrect classified cases: \" + str(len(incorrectP)))\n",
    "    pl.hist(E6PAreas[marker + '_area'])\n",
    "    pl.ylabel('Total tests')\n",
    "    pl.xlabel('Areas')\n",
    "    pl.show()"
   ]
  },
  {
   "cell_type": "code",
   "execution_count": null,
   "metadata": {
    "collapsed": false
   },
   "outputs": [],
   "source": [
    "#Histogramas para marcadores negativos lab e indeterminados App\n",
    "print(marker)\n",
    "# Create variable with TRUE if marker for Lab is N\n",
    "markerLab = dfMerged['ELF_' + marker] == 'N'\n",
    "\n",
    "# Create variable with TRUE if marker in app is I\n",
    "markerApp = dfMerged[marker + '_result'] == 'I'\n",
    "\n",
    "E6NAreas = dfMerged[markerLab]\n",
    "incorrectN = E6NAreas[E6NAreas[marker + '_area'] > 40.17]\n",
    "print(\"Number of rows: \" + str(len(E6NAreas)))\n",
    "if (len(E6NAreas) > 0):\n",
    "    print(\"Mean: \" + str(np.mean(E6NAreas[marker + '_area'])))\n",
    "    print(\"Median: \" + str(np.median(E6NAreas[marker + '_area'])))\n",
    "    print(\"Percentile 85: \" + str(np.percentile(E6NAreas[marker + '_area'], 85)))\n",
    "    print(\"Incorrect classified cases: \" + str(len(incorrectN)))\n",
    "    print(\"Area zero: \" + str(len(dfMerged[dfMerged[marker + '_area'] == 0])))\n",
    "    pl.hist(dfMerged[marker + '_area'])\n",
    "    pl.ylabel('Total tests')\n",
    "    pl.xlabel('Areas')\n",
    "    pl.show()"
   ]
  },
  {
   "cell_type": "code",
   "execution_count": null,
   "metadata": {
    "collapsed": true
   },
   "outputs": [],
   "source": [
    "def blobxArea(df, colArea, colBlob):\n",
    "    df[colBlob + '_area'] = (df[colArea] + 1) / (df[colBlob] + 1)\n",
    "    return df"
   ]
  },
  {
   "cell_type": "code",
   "execution_count": null,
   "metadata": {
    "collapsed": false
   },
   "outputs": [],
   "source": [
    "#Histogramas para marcadores negativos lab, blobs * area\n",
    "marker = 'CF'\n",
    "print(marker)\n",
    "# Create variable with TRUE if marker for Lab is P\n",
    "markerLab = dfMerged['ELF_' + marker] == 'P'\n",
    "\n",
    "markerPBlobAreas = dfMerged[markerLab]\n",
    "incorrectN = markerPBlobAreas[markerPBlobAreas[marker + '_blobs_area'] < 8]\n",
    "print(\"Number of rows: \" + str(len(markerPBlobAreas)))\n",
    "if (len(markerPBlobAreas) > 0):\n",
    "    print(\"Mean: \" + str(np.mean(markerPBlobAreas[marker + '_blobs_area'])))\n",
    "    print(\"Median: \" + str(np.median(markerPBlobAreas[marker + '_blobs_area'])))\n",
    "    print(\"Percentile 15: \" + str(np.percentile(markerPBlobAreas[marker + '_blobs_area'], 15)))\n",
    "    print(\"Incorrect classified cases: \" + str(len(incorrectN)))\n",
    "    pl.hist(markerPBlobAreas[marker + '_blobs_area'])\n",
    "    pl.ylabel('Total tests')\n",
    "    pl.xlabel('BlobsAreas')\n",
    "    pl.show()"
   ]
  },
  {
   "cell_type": "code",
   "execution_count": null,
   "metadata": {
    "collapsed": false
   },
   "outputs": [],
   "source": [
    "#Histogramas para marcadores positivos lab, blobs * area\n",
    "print(marker)\n",
    "# Create variable with TRUE if marker for Lab is N\n",
    "markerLab = dfMerged['ELF_' + marker] == 'N'\n",
    "\n",
    "markerNBlobAreas = dfMerged[markerLab]\n",
    "incorrectN = markerNBlobAreas[markerNBlobAreas[marker + '_blobs_area'] > 8]\n",
    "print(\"Number of rows: \" + str(len(markerNBlobAreas)))\n",
    "if (len(markerNBlobAreas) > 0):\n",
    "    print(\"Mean: \" + str(np.mean(markerNBlobAreas[marker + '_blobs_area'])))\n",
    "    print(\"Median: \" + str(np.median(markerNBlobAreas[marker + '_blobs_area'])))\n",
    "    print(\"Percentile 85: \" + str(np.percentile(markerNBlobAreas[marker + '_blobs_area'], 85)))\n",
    "    print(\"Incorrect classified cases: \" + str(len(incorrectN)))\n",
    "    pl.hist(markerNBlobAreas[marker + '_blobs_area'])\n",
    "    pl.ylabel('Total tests')\n",
    "    pl.xlabel('BlobsAreas')\n",
    "    pl.show()"
   ]
  },
  {
   "cell_type": "code",
   "execution_count": null,
   "metadata": {
    "collapsed": false
   },
   "outputs": [],
   "source": [
    "marker = 'P24'\n",
    "#Th for E6, CF, RV, P24 = 30, 28, 35, 25\n",
    "def areaResult(row):\n",
    "    th = 25\n",
    "    area = row[marker + '_area']\n",
    "    if(area > th): return 'P'\n",
    "    else: return 'N'\n",
    "    \n",
    "dfMerged = blobxArea(dfMerged, marker + '_area', marker + '_blobs')\n",
    "dfMerged[marker + \"_result_area\"] = dfMerged.apply(areaResult, axis=1)"
   ]
  },
  {
   "cell_type": "code",
   "execution_count": null,
   "metadata": {
    "collapsed": false
   },
   "outputs": [],
   "source": [
    "dfComparative = dfMerged[['QR', 'ELF_E6', 'ELF_CF','ELF_RV', 'ELF_P24', 'E6_result', 'CF_result', 'RV_result', 'P24_result',\n",
    "                         'E6_result_area', 'CF_result_area', 'RV_result_area', 'P24_result_area']]\n",
    "dfComparative.head()"
   ]
  },
  {
   "cell_type": "code",
   "execution_count": null,
   "metadata": {
    "collapsed": true
   },
   "outputs": [],
   "source": [
    "dfComparative.to_csv('DataFrameComparative.csv')"
   ]
  },
  {
   "cell_type": "code",
   "execution_count": null,
   "metadata": {
    "collapsed": false
   },
   "outputs": [],
   "source": [
    "#Histograma para positivos (ELISA), negativos(ELISA), indeterminados (APP) blobs*areas\n",
    "posELISA = dfMerged[dfMerged['ELF_' + marker] == 'P']\n",
    "negELISA = dfMerged[dfMerged['ELF_' + marker] == 'N']\n",
    "indetAPP = dfMerged[dfMerged[marker + '_result'] == 'I']\n",
    "bins = np.linspace(0, 280, 40)\n",
    "pl.hist(posELISA[marker + '_blobs_area'], bins, alpha=0.9, label='P (LAB)', color=['r'])\n",
    "pl.hist(negELISA[marker + '_blobs_area'], bins, alpha=0.2, label='N (LAB)', color=['b'])\n",
    "pl.hist(indetAPP[marker + '_blobs_area'], bins, alpha=0.4, label='I (APP)', color=['g'])\n",
    "pl.legend(loc='upper right')\n",
    "pl.ylabel('Freq')\n",
    "pl.xlabel('Blobs*Area')\n",
    "pl.savefig('Hist' + marker + 'BlobsArea')\n",
    "pl.close()"
   ]
  },
  {
   "cell_type": "code",
   "execution_count": null,
   "metadata": {
    "collapsed": false
   },
   "outputs": [],
   "source": [
    "print(str(cM.confusionMatrix(list(dfMerged['ELF_P24']), list(dfMerged['P24_result']))))\n",
    "print(str(cM.confusionMatrix(list(dfMerged['ELF_P24']), list(dfMerged['P24_result_area']))))"
   ]
  },
  {
   "cell_type": "code",
   "execution_count": null,
   "metadata": {
    "collapsed": false
   },
   "outputs": [],
   "source": [
    "marker = 'P24'\n",
    "#Sub DataFrame for I\n",
    "# Create variable with TRUE if marker in app is I\n",
    "markerApp = dfMerged[marker + '_result'] == 'I'\n",
    "\n",
    "dfIndet = dfMerged[markerApp]\n",
    "df2, targets = tree.encodeTarget(dfMerged, \"ELF_\" + marker)\n",
    "features = [marker + '_blobs', marker + '_area']\n",
    "target = 'Target_ELF_' + marker\n",
    "#fitting the decision tree with scikit-learn\n",
    "dt = tree.train(df2, features, target, min_samples_split=30)\n",
    "tree.visualize_tree(dt, features)"
   ]
  }
 ],
 "metadata": {
  "anaconda-cloud": {},
  "kernelspec": {
   "display_name": "Python 3",
   "language": "python",
   "name": "python3"
  },
  "language_info": {
   "codemirror_mode": {
    "name": "ipython",
    "version": 3
   },
   "file_extension": ".py",
   "mimetype": "text/x-python",
   "name": "python",
   "nbconvert_exporter": "python",
   "pygments_lexer": "ipython3",
   "version": "3.6.0"
  }
 },
 "nbformat": 4,
 "nbformat_minor": 2
}
