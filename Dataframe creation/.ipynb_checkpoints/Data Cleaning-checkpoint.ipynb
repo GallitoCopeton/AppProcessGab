{
 "cells": [
  {
   "cell_type": "code",
   "execution_count": 1,
   "metadata": {},
   "outputs": [
    {
     "name": "stdout",
     "output_type": "stream",
     "text": [
      "Imported the machine learning utilities submodule\n"
     ]
    },
    {
     "name": "stderr",
     "output_type": "stream",
     "text": [
      "Using TensorFlow backend.\n"
     ]
    }
   ],
   "source": [
    "# %%\n",
    "import datetime\n",
    "import json\n",
    "import re\n",
    "\n",
    "import pandas as pd\n",
    "import qrQuery\n",
    "from sklearn.preprocessing import StandardScaler\n",
    "import numpy as np\n",
    "import seaborn as sns\n",
    "\n",
    "import machineLearningUtilities.dataPreparation as mlU\n",
    "from machineLearningUtilities import modelPerformance as mP\n",
    "from machineLearningUtilities import nnUtils as nnU"
   ]
  },
  {
   "cell_type": "code",
   "execution_count": null,
   "metadata": {},
   "outputs": [],
   "source": [
    "# Paths and filenames\n",
    "tablesPath = '../Feature Tables'\n",
    "tableFolder = 'DF Feb 18 12_02_10'\n",
    "ext = '.xlsx'\n",
    "fullTablePath = '/'.join([tablesPath, tableFolder, tableFolder+ext])\n",
    "# Read the table and drop nan values\n",
    "df = pd.read_excel(fullTablePath)\n",
    "df.dropna(inplace=True)\n",
    "# Check if any data is missing\n",
    "print(df.isnull().sum())"
   ]
  }
 ],
 "metadata": {
  "kernelspec": {
   "display_name": "Python 3.7.4 64-bit ('base': conda)",
   "language": "python",
   "name": "python37464bitbaseconda420164ff1eab4b1288cf0a146b9420ac"
  },
  "language_info": {
   "codemirror_mode": {
    "name": "ipython",
    "version": 3
   },
   "file_extension": ".py",
   "mimetype": "text/x-python",
   "name": "python",
   "nbconvert_exporter": "python",
   "pygments_lexer": "ipython3",
   "version": "3.7.4"
  }
 },
 "nbformat": 4,
 "nbformat_minor": 2
}
