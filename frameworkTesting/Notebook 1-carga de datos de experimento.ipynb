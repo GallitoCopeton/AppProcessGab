{
 "cells": [
  {
   "cell_type": "code",
   "execution_count": null,
   "metadata": {
    "collapsed": true
   },
   "outputs": [],
   "source": [
    "import pandas as pd\n",
    "import numpy as np\n",
    "import pymongo as pymongo\n",
    "import json\n",
    "import pprint"
   ]
  },
  {
   "cell_type": "code",
   "execution_count": null,
   "metadata": {
    "collapsed": true
   },
   "outputs": [],
   "source": [
    "###\n",
    "#Prerequisitos para el File Dialog\n",
    "\n",
    "from tkinter import*\n",
    "# Create Tk root\n",
    "root = Tk()\n",
    "# Hide the main window\n",
    "root.withdraw()\n",
    "root.call('wm', 'attributes', '.', '-topmost', True)\n",
    "\n",
    "from tkinter import filedialog"
   ]
  },
  {
   "cell_type": "markdown",
   "metadata": {},
   "source": [
    "### Leer archivo excel"
   ]
  },
  {
   "cell_type": "code",
   "execution_count": null,
   "metadata": {
    "collapsed": true
   },
   "outputs": [],
   "source": [
    "####\n",
    "#File dialog para seleccionar el archivo \"RESULTADOS APP PARA INGENIERIA - AN.XLSX\"\n",
    "\n",
    "infiles = filedialog.askopenfilename(multiple=True)\n",
    "\n",
    "%gui tk"
   ]
  },
  {
   "cell_type": "code",
   "execution_count": null,
   "metadata": {
    "scrolled": false
   },
   "outputs": [],
   "source": [
    "#Cargar archivo de muestras\n",
    "df = pd.ExcelFile(infiles[0])\n",
    "df1 = df.parse('pruebas por experimento')\n",
    "df1.head()"
   ]
  },
  {
   "cell_type": "markdown",
   "metadata": {},
   "source": [
    "### Validar Nombres de columnas "
   ]
  },
  {
   "cell_type": "code",
   "execution_count": null,
   "metadata": {
    "collapsed": true
   },
   "outputs": [],
   "source": [
    "#Validar nombres de columnas para carga a MongoDB\n",
    "col = list(df1)"
   ]
  },
  {
   "cell_type": "code",
   "execution_count": null,
   "metadata": {},
   "outputs": [],
   "source": [
    "l= []\n",
    "for n in col:\n",
    "    l.append(n.lower().replace(\" \", \"_\"))\n",
    "l    "
   ]
  },
  {
   "cell_type": "code",
   "execution_count": null,
   "metadata": {},
   "outputs": [],
   "source": [
    "df1.columns = l\n",
    "df1.head()"
   ]
  },
  {
   "cell_type": "markdown",
   "metadata": {},
   "source": [
    "### Validamos que el QR no se encuentre en BD\n",
    "####          Esto lo logramos extrayendo la lista d QR's en la BD y revisando si ISIN"
   ]
  },
  {
   "cell_type": "code",
   "execution_count": null,
   "metadata": {
    "collapsed": true
   },
   "outputs": [],
   "source": [
    "#Establece conexion 1)nombre de la base datos\n",
    "client = pymongo.MongoClient(\"idenmon.zapto.org\", 888)\n",
    "db = client.prodLaboratorio\n",
    "pruebas = db.resultsExperiments"
   ]
  },
  {
   "cell_type": "code",
   "execution_count": null,
   "metadata": {},
   "outputs": [],
   "source": [
    "pruebas_db = pruebas.find()\n",
    "pruebas_list = list (pruebas_db)\n",
    "row_preinsert = len (pruebas_list)\n",
    "row_preinsert"
   ]
  },
  {
   "cell_type": "code",
   "execution_count": null,
   "metadata": {
    "collapsed": true
   },
   "outputs": [],
   "source": [
    "qr=[]\n",
    "for n in range(0,len(pruebas_list)):\n",
    "    qr.append(pruebas_list[n]['qr'])"
   ]
  },
  {
   "cell_type": "code",
   "execution_count": null,
   "metadata": {},
   "outputs": [],
   "source": [
    "dfRed = pd.DataFrame\n",
    "dfRed = df1.drop(df1[df1['qr'].isin(qr)].index)\n",
    "dfRed"
   ]
  },
  {
   "cell_type": "markdown",
   "metadata": {},
   "source": [
    "### Convertir a JSON para poder almacenar en mongoDB"
   ]
  },
  {
   "cell_type": "code",
   "execution_count": null,
   "metadata": {
    "collapsed": true
   },
   "outputs": [],
   "source": [
    "#Utilizando conversion directa a una lista de diccionarios en python\n",
    "s = dfRed.to_json(orient = 'records')\n",
    "l = json.loads(s)"
   ]
  },
  {
   "cell_type": "code",
   "execution_count": null,
   "metadata": {},
   "outputs": [],
   "source": [
    "l"
   ]
  },
  {
   "cell_type": "markdown",
   "metadata": {},
   "source": [
    "### Guardar archivos en mongoDB"
   ]
  },
  {
   "cell_type": "code",
   "execution_count": null,
   "metadata": {},
   "outputs": [],
   "source": [
    "#Contar numero de registros con un checksum\n",
    "num_rows_input = len(l)\n",
    "num_rows_input"
   ]
  },
  {
   "cell_type": "code",
   "execution_count": null,
   "metadata": {
    "collapsed": true,
    "scrolled": true
   },
   "outputs": [],
   "source": [
    "#Insertar JSON a mongoDB\n",
    "if l:\n",
    "    pruebas.insert_many(l)\n",
    "else:\n",
    "    print('No hay datos para guardar')"
   ]
  },
  {
   "cell_type": "code",
   "execution_count": null,
   "metadata": {},
   "outputs": [],
   "source": [
    "#desplegar en python df\n",
    "pruebas_db = pruebas.find()\n",
    "pruebas_list = list (pruebas_db)\n",
    "dfp = pd.DataFrame(pruebas_list)\n",
    "dfp.head()"
   ]
  },
  {
   "cell_type": "code",
   "execution_count": null,
   "metadata": {},
   "outputs": [],
   "source": [
    "#Confirmar escritura\n",
    "#num_rows_input\n",
    "num_rows_output = len (pruebas_list)\n",
    "#num_rows_output\n",
    "sum_rows_input = (row_preinsert + num_rows_input)\n",
    "ok_flag = (num_rows_output == sum_rows_input)\n",
    "#ok flag\n",
    "#num_rows_output\n",
    "ok_flag"
   ]
  }
 ],
 "metadata": {
  "kernelspec": {
   "display_name": "Python 3",
   "language": "python",
   "name": "python3"
  },
  "language_info": {
   "codemirror_mode": {
    "name": "ipython",
    "version": 3
   },
   "file_extension": ".py",
   "mimetype": "text/x-python",
   "name": "python",
   "nbconvert_exporter": "python",
   "pygments_lexer": "ipython3",
   "version": "3.6.1"
  }
 },
 "nbformat": 4,
 "nbformat_minor": 2
}
