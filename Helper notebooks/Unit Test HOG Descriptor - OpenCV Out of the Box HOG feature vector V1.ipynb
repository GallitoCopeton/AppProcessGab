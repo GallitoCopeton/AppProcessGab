{
 "cells": [
  {
   "cell_type": "code",
   "execution_count": 1,
   "metadata": {
    "collapsed": false
   },
   "outputs": [
    {
     "name": "stdout",
     "output_type": "stream",
     "text": [
      "Im happy...\n"
     ]
    }
   ],
   "source": [
    "import numpy as np\n",
    "import cv2\n",
    "import operator\n",
    "from matplotlib import pyplot as plt\n",
    "import sys\n",
    "import itertools\n",
    "\n",
    "#Scripts para leer y procesar imagen\n",
    "sys.path.insert(0, '../Golden Master (AS IS)')\n",
    "import readImage\n",
    "import preProcessing as pP\n",
    "import sorts as srt\n",
    "import perspective as pPe\n",
    "import indAnalysis as inA\n",
    "import writeImage2"
   ]
  },
  {
   "cell_type": "code",
   "execution_count": 2,
   "metadata": {
    "collapsed": true
   },
   "outputs": [],
   "source": [
    "#Image folders\n",
    "IMG_FOLDER = \"C:/Users/LaptopUser/jupyterNotebook/Imagenes/\"\n",
    "XM_FOLDER = \"C:/Users/LaptopUser/jupyterNotebook/Imagenes XM/\" "
   ]
  },
  {
   "cell_type": "code",
   "execution_count": 3,
   "metadata": {
    "collapsed": true
   },
   "outputs": [],
   "source": [
    "#Parameters for finding Individual XM-Markers \n",
    "qr = ['601170500100157']\n",
    "count = [[1,2]]\n",
    "ext = \".png\"\n",
    "local = True \n",
    "XM_PER_DEVICE = 6\n",
    "xm_ids = [ str(id).zfill(2) for id in range(0,XM_PER_DEVICE)]"
   ]
  },
  {
   "cell_type": "code",
   "execution_count": 4,
   "metadata": {
    "collapsed": false
   },
   "outputs": [
    {
     "data": {
      "text/plain": [
       "['601170500100157_001_00.png',\n",
       " '601170500100157_001_01.png',\n",
       " '601170500100157_001_02.png',\n",
       " '601170500100157_001_03.png',\n",
       " '601170500100157_001_04.png',\n",
       " '601170500100157_001_05.png',\n",
       " '601170500100157_002_00.png',\n",
       " '601170500100157_002_01.png',\n",
       " '601170500100157_002_02.png',\n",
       " '601170500100157_002_03.png',\n",
       " '601170500100157_002_04.png',\n",
       " '601170500100157_002_05.png']"
      ]
     },
     "execution_count": 4,
     "metadata": {},
     "output_type": "execute_result"
    }
   ],
   "source": [
    "#XM-Markers filenames (Version 1)\n",
    "if local:\n",
    "    for qr_idx, each_qr in enumerate(qr):\n",
    "        counters = [ str(x).zfill(3) for x in count[qr_idx] ]\n",
    "        counters_tiled = [ x for x in counters for y in range(0,XM_PER_DEVICE)]\n",
    "        xm_ids_tiled = np.tile(xm_ids, len(counters))\n",
    "        qrs = [each_qr] * (len(counters) * XM_PER_DEVICE)\n",
    "        filenames = [ \"_\".join(x) + ext for x in zip(qrs,counters_tiled, xm_ids_tiled) ]\n",
    "        qr_filenames = list(zip(qrs,filenames))\n",
    "filenames"
   ]
  },
  {
   "cell_type": "code",
   "execution_count": 5,
   "metadata": {
    "collapsed": false
   },
   "outputs": [
    {
     "data": {
      "text/plain": [
       "[('601170500100157_001', array([[[ 94, 104, 106],\n",
       "          [ 93, 102, 105],\n",
       "          [ 92, 100, 104],\n",
       "          ..., \n",
       "          [ 93, 100, 104],\n",
       "          [ 92,  99, 103],\n",
       "          [ 91,  98, 102]],\n",
       "  \n",
       "         [[ 94, 104, 106],\n",
       "          [ 94, 103, 106],\n",
       "          [ 93, 101, 105],\n",
       "          ..., \n",
       "          [ 93, 101, 105],\n",
       "          [ 92,  99, 104],\n",
       "          [ 91,  98, 103]],\n",
       "  \n",
       "         [[ 95, 105, 107],\n",
       "          [ 94, 103, 106],\n",
       "          [ 93, 102, 106],\n",
       "          ..., \n",
       "          [ 93, 101, 105],\n",
       "          [ 92,  99, 104],\n",
       "          [ 91,  98, 103]],\n",
       "  \n",
       "         ..., \n",
       "         [[ 80,  82,  85],\n",
       "          [ 78,  81,  84],\n",
       "          [ 76,  80,  83],\n",
       "          ..., \n",
       "          [ 87,  88,  92],\n",
       "          [ 87,  87,  92],\n",
       "          [ 86,  86,  90]],\n",
       "  \n",
       "         [[ 81,  82,  86],\n",
       "          [ 79,  82,  85],\n",
       "          [ 77,  81,  84],\n",
       "          ..., \n",
       "          [ 88,  88,  92],\n",
       "          [ 87,  87,  92],\n",
       "          [ 86,  86,  91]],\n",
       "  \n",
       "         [[ 81,  83,  86],\n",
       "          [ 80,  82,  86],\n",
       "          [ 78,  81,  85],\n",
       "          ..., \n",
       "          [ 88,  88,  92],\n",
       "          [ 88,  87,  92],\n",
       "          [ 87,  86,  91]]], dtype=uint8)),\n",
       " ('601170500100157_001', array([[[ 91,  99, 104],\n",
       "          [ 91,  99, 104],\n",
       "          [ 91,  98, 103],\n",
       "          ..., \n",
       "          [ 95, 103, 105],\n",
       "          [ 94, 102, 104],\n",
       "          [ 93, 101, 103]],\n",
       "  \n",
       "         [[ 91,  99, 104],\n",
       "          [ 91,  99, 104],\n",
       "          [ 91,  98, 104],\n",
       "          ..., \n",
       "          [ 95, 103, 105],\n",
       "          [ 94, 102, 104],\n",
       "          [ 93, 101, 103]],\n",
       "  \n",
       "         [[ 92,  99, 105],\n",
       "          [ 92,  99, 104],\n",
       "          [ 92,  99, 104],\n",
       "          ..., \n",
       "          [ 96, 104, 106],\n",
       "          [ 94, 102, 104],\n",
       "          [ 93, 101, 103]],\n",
       "  \n",
       "         ..., \n",
       "         [[ 82,  83,  87],\n",
       "          [ 83,  83,  87],\n",
       "          [ 83,  84,  88],\n",
       "          ..., \n",
       "          [ 84,  94,  95],\n",
       "          [ 83,  93,  94],\n",
       "          [ 82,  92,  93]],\n",
       "  \n",
       "         [[ 82,  83,  87],\n",
       "          [ 83,  83,  87],\n",
       "          [ 83,  84,  88],\n",
       "          ..., \n",
       "          [ 84,  93,  95],\n",
       "          [ 83,  92,  94],\n",
       "          [ 82,  92,  93]],\n",
       "  \n",
       "         [[ 83,  82,  87],\n",
       "          [ 83,  83,  87],\n",
       "          [ 84,  84,  88],\n",
       "          ..., \n",
       "          [ 83,  92,  94],\n",
       "          [ 82,  92,  93],\n",
       "          [ 81,  91,  93]]], dtype=uint8)),\n",
       " ('601170500100157_001', array([[[82, 85, 89],\n",
       "          [81, 85, 88],\n",
       "          [79, 84, 87],\n",
       "          ..., \n",
       "          [84, 82, 87],\n",
       "          [84, 82, 87],\n",
       "          [84, 82, 87]],\n",
       "  \n",
       "         [[82, 85, 89],\n",
       "          [81, 85, 88],\n",
       "          [79, 84, 87],\n",
       "          ..., \n",
       "          [84, 82, 87],\n",
       "          [84, 82, 87],\n",
       "          [84, 82, 87]],\n",
       "  \n",
       "         [[83, 86, 89],\n",
       "          [81, 85, 88],\n",
       "          [79, 85, 87],\n",
       "          ..., \n",
       "          [85, 83, 88],\n",
       "          [85, 83, 88],\n",
       "          [85, 83, 88]],\n",
       "  \n",
       "         ..., \n",
       "         [[76, 76, 81],\n",
       "          [76, 76, 81],\n",
       "          [76, 76, 81],\n",
       "          ..., \n",
       "          [73, 77, 80],\n",
       "          [72, 76, 79],\n",
       "          [71, 75, 78]],\n",
       "  \n",
       "         [[77, 76, 81],\n",
       "          [77, 76, 81],\n",
       "          [77, 76, 81],\n",
       "          ..., \n",
       "          [73, 77, 80],\n",
       "          [72, 76, 79],\n",
       "          [71, 75, 78]],\n",
       "  \n",
       "         [[77, 77, 82],\n",
       "          [77, 77, 82],\n",
       "          [77, 77, 82],\n",
       "          ..., \n",
       "          [73, 77, 80],\n",
       "          [72, 76, 79],\n",
       "          [71, 75, 78]]], dtype=uint8)),\n",
       " ('601170500100157_001', array([[[81, 79, 84],\n",
       "          [81, 79, 84],\n",
       "          [82, 80, 85],\n",
       "          ..., \n",
       "          [85, 94, 96],\n",
       "          [84, 94, 95],\n",
       "          [82, 93, 94]],\n",
       "  \n",
       "         [[81, 79, 84],\n",
       "          [82, 80, 85],\n",
       "          [82, 80, 85],\n",
       "          ..., \n",
       "          [86, 95, 96],\n",
       "          [84, 94, 95],\n",
       "          [83, 94, 94]],\n",
       "  \n",
       "         [[81, 79, 84],\n",
       "          [82, 80, 85],\n",
       "          [83, 81, 86],\n",
       "          ..., \n",
       "          [86, 96, 97],\n",
       "          [84, 95, 96],\n",
       "          [83, 94, 95]],\n",
       "  \n",
       "         ..., \n",
       "         [[66, 70, 73],\n",
       "          [66, 70, 73],\n",
       "          [67, 71, 74],\n",
       "          ..., \n",
       "          [75, 81, 84],\n",
       "          [75, 82, 84],\n",
       "          [75, 82, 84]],\n",
       "  \n",
       "         [[66, 70, 73],\n",
       "          [66, 70, 73],\n",
       "          [67, 71, 74],\n",
       "          ..., \n",
       "          [75, 81, 83],\n",
       "          [75, 81, 83],\n",
       "          [75, 81, 83]],\n",
       "  \n",
       "         [[66, 70, 73],\n",
       "          [66, 70, 73],\n",
       "          [67, 71, 74],\n",
       "          ..., \n",
       "          [75, 80, 82],\n",
       "          [75, 80, 83],\n",
       "          [75, 80, 83]]], dtype=uint8)),\n",
       " ('601170500100157_001', array([[[74, 72, 77],\n",
       "          [75, 73, 78],\n",
       "          [76, 74, 79],\n",
       "          ..., \n",
       "          [69, 73, 76],\n",
       "          [69, 73, 76],\n",
       "          [69, 73, 76]],\n",
       "  \n",
       "         [[74, 72, 77],\n",
       "          [75, 73, 78],\n",
       "          [76, 74, 79],\n",
       "          ..., \n",
       "          [70, 74, 77],\n",
       "          [69, 73, 76],\n",
       "          [69, 73, 76]],\n",
       "  \n",
       "         [[75, 73, 78],\n",
       "          [76, 74, 79],\n",
       "          [77, 75, 80],\n",
       "          ..., \n",
       "          [70, 74, 77],\n",
       "          [70, 74, 77],\n",
       "          [69, 73, 76]],\n",
       "  \n",
       "         ..., \n",
       "         [[65, 68, 72],\n",
       "          [65, 69, 72],\n",
       "          [65, 70, 73],\n",
       "          ..., \n",
       "          [71, 72, 76],\n",
       "          [70, 71, 75],\n",
       "          [69, 70, 74]],\n",
       "  \n",
       "         [[65, 68, 72],\n",
       "          [65, 69, 72],\n",
       "          [65, 69, 73],\n",
       "          ..., \n",
       "          [70, 71, 75],\n",
       "          [69, 70, 74],\n",
       "          [69, 70, 74]],\n",
       "  \n",
       "         [[66, 68, 72],\n",
       "          [65, 68, 72],\n",
       "          [65, 69, 72],\n",
       "          ..., \n",
       "          [69, 71, 74],\n",
       "          [69, 70, 74],\n",
       "          [68, 69, 73]]], dtype=uint8)),\n",
       " ('601170500100157_001', array([[[72, 76, 79],\n",
       "          [73, 77, 80],\n",
       "          [74, 78, 81],\n",
       "          ..., \n",
       "          [85, 83, 88],\n",
       "          [85, 83, 88],\n",
       "          [85, 83, 88]],\n",
       "  \n",
       "         [[72, 76, 79],\n",
       "          [73, 77, 80],\n",
       "          [74, 78, 81],\n",
       "          ..., \n",
       "          [85, 84, 89],\n",
       "          [86, 84, 89],\n",
       "          [85, 84, 89]],\n",
       "  \n",
       "         [[72, 76, 79],\n",
       "          [73, 77, 80],\n",
       "          [74, 78, 81],\n",
       "          ..., \n",
       "          [86, 86, 90],\n",
       "          [86, 85, 90],\n",
       "          [86, 84, 89]],\n",
       "  \n",
       "         ..., \n",
       "         [[70, 73, 77],\n",
       "          [71, 74, 77],\n",
       "          [72, 75, 78],\n",
       "          ..., \n",
       "          [80, 87, 89],\n",
       "          [78, 86, 88],\n",
       "          [76, 84, 86]],\n",
       "  \n",
       "         [[70, 73, 77],\n",
       "          [71, 74, 77],\n",
       "          [72, 75, 78],\n",
       "          ..., \n",
       "          [79, 86, 89],\n",
       "          [77, 85, 87],\n",
       "          [76, 83, 86]],\n",
       "  \n",
       "         [[71, 72, 76],\n",
       "          [71, 73, 77],\n",
       "          [72, 74, 78],\n",
       "          ..., \n",
       "          [79, 85, 88],\n",
       "          [77, 84, 86],\n",
       "          [76, 83, 85]]], dtype=uint8))]"
      ]
     },
     "execution_count": 5,
     "metadata": {},
     "output_type": "execute_result"
    }
   ],
   "source": [
    "#Read XM-markers \n",
    "input = []\n",
    "input_filenames = []\n",
    "xms_found = []\n",
    "if local:\n",
    "  for each_filename in filenames:\n",
    "    img = readImage.readLocal(XM_FOLDER + each_filename)\n",
    "    filename_ids = each_filename.split(\"_\")\n",
    "    qr_from_filename = filename_ids[0] + \"_\" + filename_ids[1] \n",
    "    if img is not None and img.size != 0:\n",
    "      input.append(img)\n",
    "      input_filenames.append(qr_from_filename)\n",
    "      xms_found.append(each_filename)\n",
    "  input_imgs_with_ids = list(zip(input_filenames, input))\n",
    "input_imgs_with_ids"
   ]
  },
  {
   "cell_type": "code",
   "execution_count": 6,
   "metadata": {
    "collapsed": false
   },
   "outputs": [
    {
     "name": "stdout",
     "output_type": "stream",
     "text": [
      "Upps!!! Some images not found, proceeding with what we got...\n",
      "Number of XM-Markers Found : 6\n",
      "XM-Marers found :\n"
     ]
    },
    {
     "data": {
      "text/plain": [
       "['601170500100157_001_00.png',\n",
       " '601170500100157_001_01.png',\n",
       " '601170500100157_001_02.png',\n",
       " '601170500100157_001_03.png',\n",
       " '601170500100157_001_04.png',\n",
       " '601170500100157_001_05.png']"
      ]
     },
     "execution_count": 6,
     "metadata": {},
     "output_type": "execute_result"
    }
   ],
   "source": [
    "#Sanity check\n",
    "number_of_counters = len([ x for counters_per_qr in count for x in counters_per_qr])\n",
    "if len(qr) * number_of_counters * XM_PER_DEVICE == len(input):\n",
    "    print(\"I'm happy...\")\n",
    "else:\n",
    "    print(\"Upps!!! Some images not found, proceeding with what we got...\")\n",
    "num_images = len(input)\n",
    "print(\"Number of XM-Markers Found : \" + str(num_images))\n",
    "print(\"XM-Marers found :\") \n",
    "xms_found"
   ]
  },
  {
   "cell_type": "code",
   "execution_count": 7,
   "metadata": {
    "collapsed": false,
    "scrolled": true
   },
   "outputs": [
    {
     "name": "stdout",
     "output_type": "stream",
     "text": [
      "601170500100157_001\n"
     ]
    },
    {
     "data": {
      "image/png": "[encoded data removed]",
      "text/plain": [
       "<matplotlib.figure.Figure at 0x7bc40f0>"
      ]
     },
     "metadata": {},
     "output_type": "display_data"
    }
   ],
   "source": [
    "#show XM-Markes\n",
    "rows = len(input) // XM_PER_DEVICE\n",
    "for i,img in enumerate(input):\n",
    "    if i % XM_PER_DEVICE == 0:\n",
    "        print(input_imgs_with_ids[i][0])\n",
    "    plt.subplot(rows,XM_PER_DEVICE, i % XM_PER_DEVICE + 1), plt.imshow(img)\n",
    "ax = plt.gca()\n",
    "plt.show()"
   ]
  },
  {
   "cell_type": "code",
   "execution_count": 8,
   "metadata": {
    "collapsed": true
   },
   "outputs": [],
   "source": [
    "# Start of HOG Pipeline:\n",
    "#    Step 1. Pre-Processing (e.g. Resize Images to 90 x 90)\n",
    "#    Step 2. Gradient Computation (e.g. Using Sobel or HOGDescriptor::computeGradient)\n",
    "#    Step 3. Build Cell Histograms (e.g. Using HOGDescriptor Parameter cellSize = 8 x 8)\n",
    "#    Step 4 Normalize Histograms  (e.g. Using HOGDescriptor Parameter blockSize = 16 x 16)\n",
    "#help(cv2.HOGDescriptor())"
   ]
  },
  {
   "cell_type": "code",
   "execution_count": 9,
   "metadata": {
    "collapsed": false
   },
   "outputs": [
    {
     "name": "stdout",
     "output_type": "stream",
     "text": [
      "Pre-Processing: Resizing input image size From: (970L, 728L, 3L) To: (90L, 90L, 3L)\n"
     ]
    }
   ],
   "source": [
    "#Pre-Processing \n",
    "input_image_size = input[0].shape\n",
    "#Resizing to 90x90 (same size as existing XM-Markers individual analysis library)\n",
    "input_resized = inA.resizeAll(input)\n",
    "input_resized_image_size = input_resized[0].shape\n",
    "print(\"Pre-Processing: Resizing input image size From: \" + str(input_image_size) + \" To: \" + str(input_resized_image_size))"
   ]
  },
  {
   "cell_type": "code",
   "execution_count": 10,
   "metadata": {
    "collapsed": false
   },
   "outputs": [],
   "source": [
    "#Key parameters for HOG Algorithm  \n",
    "winSize = (90,90)\n",
    "cellSize = (10,10)\n",
    "blockSize = (20,20)\n",
    "blockStride = (10,10)\n",
    "nbins = 9\n",
    "\n",
    "#Default values for these ones \n",
    "derivAperture = 1\n",
    "winSigma = -1.\n",
    "histogramNormType = 0\n",
    "L2HysThreshold = 0.2\n",
    "gammaCorrection = 1\n",
    "nlevels = 64\n",
    "signedGradients = True\n",
    "\n",
    "#Create HOG descriptor\n",
    "hog = cv2.HOGDescriptor(winSize,blockSize,blockStride,cellSize,  \n",
    "                        nbins,derivAperture,winSigma,histogramNormType, \n",
    "                        L2HysThreshold,gammaCorrection,nlevels, signedGradients)\n",
    "\n",
    "#  Default OpenCV HOGDescriptor parameters  \n",
    "#     C++: gpu::HOGDescriptor::HOGDescriptor(\n",
    "#          Size win_size=Size(64, 128), \n",
    "#          Size block_size=Size(16, 16), \n",
    "#          Size block_stride=Size(8, 8), \n",
    "#          Size cell_size=Size(8, 8), \n",
    "#          int nbins=9, \n",
    "#          double win_sigma=DEFAULT_WIN_SIGMA, \n",
    "#          double threshold_L2hys=0.2, \n",
    "#          bool gamma_correction=true, \n",
    "#          int nlevels=DEFAULT_NLEVELS\n",
    "#)\n",
    "\n",
    "#HOGDescriptor has various functions to:\n",
    "#   a)Generate a vector of features (returns a \"descriptor\")\n",
    "#   b)Compute Gradient (returns magnitud and direction)\n",
    "#   c)Detect persons and objects using pre-trained SVM (which we are not using because of Android version compatibility issues)\n",
    "#help(cv2.HOGDescriptor())"
   ]
  },
  {
   "cell_type": "code",
   "execution_count": 11,
   "metadata": {
    "collapsed": false
   },
   "outputs": [
    {
     "data": {
      "text/plain": [
       "(2304L, 1L)"
      ]
     },
     "execution_count": 11,
     "metadata": {},
     "output_type": "execute_result"
    }
   ],
   "source": [
    "#Calculate feature vector using HOGDescriptor\n",
    "#OpenCV HOGDescriptor::compute method has four additional parameters\n",
    "#Compute(img[, winStride[, padding[, locations]]]) -> descriptors\n",
    "winStride = (10,10)               #'winStride' = argument (default 8x8)- controls how the window is slide across the input window'. \n",
    "padding = (0,0)                 #Setting it to (0,0) add no extra pixels on each side of the input image.\n",
    "locations = ((0,0),)\n",
    "for img in input_resized:\n",
    "    hog_descriptor = hog.compute(img, winStride, padding, locations) \n",
    "hog_descriptor.shape"
   ]
  },
  {
   "cell_type": "code",
   "execution_count": 12,
   "metadata": {
    "collapsed": false
   },
   "outputs": [
    {
     "data": {
      "image/png": "[encoded data removed]",
      "text/plain": [
       "<matplotlib.figure.Figure at 0xa489518>"
      ]
     },
     "metadata": {},
     "output_type": "display_data"
    }
   ],
   "source": [
    "plt.hist(hog_descriptor[0:9])\n",
    "plt.show()"
   ]
  },
  {
   "cell_type": "code",
   "execution_count": 13,
   "metadata": {
    "collapsed": false
   },
   "outputs": [
    {
     "name": "stdout",
     "output_type": "stream",
     "text": [
      "Total number of blocks : 64\n",
      "Histograms per block : 4\n",
      "Size of HOG feature vector : 2304\n",
      "Number of histograms generated by HOGDescriptor (including cells overlapped by sliding window): 256\n",
      "Total number of cells : 81\n",
      "Total number of histograms per Image: 81\n"
     ]
    }
   ],
   "source": [
    "#Cifras de control \n",
    "number_of_blocks = (np.array(winSize) - np.array(blockSize)) / np.array(blockStride) + np.array((1,1))\n",
    "total_number_of_blocks = np.prod(number_of_blocks)\n",
    "print(\"Total number of blocks : \" + str(total_number_of_blocks))\n",
    "hist_per_block = np.array(blockSize) // np.array(cellSize)  \n",
    "total_hist_per_block = np.prod(hist_per_block)\n",
    "print(\"Histograms per block : \" + str(total_hist_per_block))\n",
    "number_of_features = total_number_of_blocks * total_hist_per_block * nbins\n",
    "print(\"Size of HOG feature vector : \" + str(number_of_features))\n",
    "number_of_hists_per_HOGDescriptor = total_number_of_blocks * total_hist_per_block\n",
    "number_of_hists_per_HOGDescriptor\n",
    "print(\"Number of histograms generated by HOGDescriptor (including cells overlapped by sliding window): \" + str(number_of_hists_per_HOGDescriptor))\n",
    "number_of_cells = np.array(winSize) // np.array(cellSize)\n",
    "total_number_of_cells = np.prod(number_of_cells)\n",
    "print(\"Total number of cells : \" + str(total_number_of_cells))\n",
    "total_number_of_hist_per_image = total_number_of_cells\n",
    "print(\"Total number of histograms per Image: \" + str(total_number_of_hist_per_image))\n",
    "#As we are not padding the slidding window cannot be applied to first and last cells\n",
    "#Therefore, the total number of histograms BEFORE applying sliding windows is equal to the total number of cells\n",
    "#Each blockSized sliding windows will take 2 cells on eah direction \n",
    "#On each direction it takes exactly (winSize - blockSize) / blockStride blocks e.g 7 in example above\n",
    "#     7 x 2 = 14 histograms in total + 1 more block on each direction (the last cell is included in previous block)\n",
    "#This matches the total number of histograms per HOGDescriptor = 7 x 2 + 2 = 16 * 16 = 256 Histograms\n",
    "#We know each 9 features is a histogram, but we do not know how the 256 were serialized i.e. first all rows, then all columns or interwined\n",
    "#https://stackoverflow.com/questions/13198889/how-are-hog-features-represented-graphically"
   ]
  }
 ],
 "metadata": {
  "kernelspec": {
   "display_name": "Python 3",
   "language": "python",
   "name": "python3"
  },
  "language_info": {
   "codemirror_mode": {
    "name": "ipython",
    "version": 3
   },
   "file_extension": ".py",
   "mimetype": "text/x-python",
   "name": "python",
   "nbconvert_exporter": "python",
   "pygments_lexer": "ipython3",
   "version": "3.6.0"
  }
 },
 "nbformat": 4,
 "nbformat_minor": 2
}
