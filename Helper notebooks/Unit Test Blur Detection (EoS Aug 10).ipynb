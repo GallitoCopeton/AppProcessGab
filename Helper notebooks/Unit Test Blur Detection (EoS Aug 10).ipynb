{
 "cells": [
  {
   "cell_type": "code",
   "execution_count": null,
   "metadata": {
    "collapsed": false
   },
   "outputs": [],
   "source": [
    "import cv2\n",
    "import pandas as pd\n",
    "import numpy as np\n",
    "import sys\n",
    "import matplotlib.pyplot as plt\n",
    "#Script para leer y procesar imagen\n",
    "sys.path.insert(0, '../Golden Master (AS IS)')\n",
    "import readImage as rI\n",
    "import preProcessing as pP"
   ]
  },
  {
   "cell_type": "code",
   "execution_count": null,
   "metadata": {
    "collapsed": false
   },
   "outputs": [],
   "source": [
    "#Lee excel errores de toma\n",
    "casos_error_excel = pd.ExcelFile(\"../../Casos/erroresCapturaEjemplos.xlsx\")\n",
    "casos_error_df = casos_error_excel.parse('Hoja1')\n",
    "casos_error_df.head()"
   ]
  },
  {
   "cell_type": "code",
   "execution_count": null,
   "metadata": {
    "collapsed": false
   },
   "outputs": [],
   "source": [
    "#Lee lista de imágenes borrosas\n",
    "borrosas = casos_error_df[['QR','Contador']][casos_error_df['Borroso']==1]\n",
    "borrosas.head()"
   ]
  },
  {
   "cell_type": "code",
   "execution_count": null,
   "metadata": {
    "collapsed": true
   },
   "outputs": [],
   "source": [
    "#Calcula varianza de filtro Laplaciano\n",
    "#http://www.pyimagesearch.com/2015/09/07/blur-detection-with-opencv/\n",
    "def laplacian(image): \n",
    "    return cv2.Laplacian(image, cv2.CV_8U)\n",
    "def variance(lapl):\n",
    "    lapl.var()"
   ]
  },
  {
   "cell_type": "code",
   "execution_count": null,
   "metadata": {
    "collapsed": false
   },
   "outputs": [],
   "source": [
    "lapl0 = laplacian(\n",
    "        pP.BGR2gray(\n",
    "        rI.readImage('601170500100459', count = 0, local = False)))\n",
    "lapl1 = laplacian(\n",
    "        pP.BGR2gray(\n",
    "        rI.readImage('601170500100459', count = 1, local = False)))\n",
    "lapl3 = laplacian(\n",
    "        pP.BGR2gray(\n",
    "        rI.readImage('601170500100459', count = 3, local = False)))\n",
    "\n",
    "print('Laplacian 0: ' + str(lapl0.max()) + ', Laplacian 1: ' + \n",
    "      str(lapl1.max()) + ', Laplacian 2: ' + str(lapl3.max()))\n",
    "plt.subplot(121),plt.imshow(lapl0, 'gray')\n",
    "plt.show()"
   ]
  },
  {
   "cell_type": "code",
   "execution_count": null,
   "metadata": {
    "collapsed": false
   },
   "outputs": [],
   "source": [
    "#Lee imagenes usando casos_error_df\n",
    "laplacian_var = []\n",
    "laplacian_min = []\n",
    "laplacian_max = []\n",
    "for row in casos_error_df.itertuples():\n",
    "    lapl = laplacian(\n",
    "        pP.BGR2gray(\n",
    "        rI.readImage(str(row.QR), count = int(row.Contador), local = False)))\n",
    "    laplacian_var.append(lapl.var())\n",
    "    laplacian_min.append(lapl.min())\n",
    "    laplacian_max.append(lapl.max())"
   ]
  },
  {
   "cell_type": "code",
   "execution_count": null,
   "metadata": {
    "collapsed": false
   },
   "outputs": [],
   "source": [
    "#Agrega a casos_error_df valores de varianza de filtros laplacianos\n",
    "casos_error_df['laplacian_var'] = pd.Series(laplacian_var)\n",
    "casos_error_df['laplacian_min'] = pd.Series(laplacian_min)\n",
    "casos_error_df['laplacian_max'] = pd.Series(laplacian_max)\n",
    "casos_error_df.head()"
   ]
  },
  {
   "cell_type": "code",
   "execution_count": null,
   "metadata": {
    "collapsed": false
   },
   "outputs": [],
   "source": [
    "#Histograma valores de varianza laplacian vs valor Borroso (Si = 1, No = 0)\n",
    "#Histograma para positivos (ELISA), negativos(ELISA), indeterminados (APP) algoritmo blobs\n",
    "borroso = casos_error_df[casos_error_df['Borroso'] == 1]\n",
    "no_borroso = casos_error_df[casos_error_df['Borroso'] == 0]\n",
    "plt.hist(borroso['laplacian_max'], alpha=0.9, label='Max_Lapl Borroso', color=['r'])\n",
    "plt.hist(no_borroso['laplacian_max'], alpha=0.2, label='Max_Lapl No Borroso', color=['b'])\n",
    "plt.legend(loc='upper right')\n",
    "plt.ylabel('Max Laplacian')\n",
    "plt.xlabel('Borroso')\n",
    "plt.savefig('MaxLaplBorr')\n",
    "plt.close()"
   ]
  },
  {
   "cell_type": "code",
   "execution_count": null,
   "metadata": {
    "collapsed": false
   },
   "outputs": [],
   "source": [
    "#Compara varianzas imágenes borrosas vs normales\n",
    "casos_error_df[(casos_error_df['laplacian_max'] > 142) & \n",
    "               (casos_error_df['Borroso'] == 1)].count()"
   ]
  }
 ],
 "metadata": {
  "kernelspec": {
   "display_name": "Python 3",
   "language": "python",
   "name": "python3"
  },
  "language_info": {
   "codemirror_mode": {
    "name": "ipython",
    "version": 3
   },
   "file_extension": ".py",
   "mimetype": "text/x-python",
   "name": "python",
   "nbconvert_exporter": "python",
   "pygments_lexer": "ipython3",
   "version": "3.6.0"
  }
 },
 "nbformat": 4,
 "nbformat_minor": 2
}
