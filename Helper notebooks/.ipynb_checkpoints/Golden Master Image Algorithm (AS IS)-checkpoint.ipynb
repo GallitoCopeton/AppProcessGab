{
 "cells": [
  {
   "cell_type": "markdown",
   "metadata": {
    "collapsed": true
   },
   "source": [
    "## Golden Master Image Algorithm (AS IS)"
   ]
  },
  {
   "cell_type": "code",
   "execution_count": null,
   "metadata": {
    "collapsed": false
   },
   "outputs": [],
   "source": [
    "import numpy as np\n",
    "import cv2\n",
    "import operator\n",
    "from matplotlib import pyplot as plt\n",
    "import sys \n",
    "\n",
    "#Scripts para leer y procesar imagen\n",
    "sys.path.insert(0, '../Golden Master (AS IS)')\n",
    "import readImage\n",
    "import preProcessing as pP\n",
    "import sorts as srt\n",
    "import perspective as pPe\n",
    "import indAnalysis as inA"
   ]
  },
  {
   "cell_type": "code",
   "execution_count": null,
   "metadata": {
    "collapsed": true
   },
   "outputs": [],
   "source": [
    "batch = False\n",
    "qr = '601170500100366'"
   ]
  },
  {
   "cell_type": "markdown",
   "metadata": {},
   "source": [
    "### Read Image"
   ]
  },
  {
   "cell_type": "code",
   "execution_count": null,
   "metadata": {
    "collapsed": false
   },
   "outputs": [],
   "source": [
    "#Read from local file local = True, from db local = False, count = Test repeated\n",
    "imgBGR = readImage.readImage(qr, local = False, count = 0)\n",
    "if(isinstance(imgBGR, str)):\n",
    "    print(imgBGR)\n",
    "else: \n",
    "    # show the original image\n",
    "    if (not batch):\n",
    "     plt.subplot(121),plt.imshow(cv2.cvtColor(imgBGR,cv2.COLOR_BGR2RGB))\n",
    "     plt.show()"
   ]
  },
  {
   "cell_type": "markdown",
   "metadata": {},
   "source": [
    "### Find Border of Biggest Square"
   ]
  },
  {
   "cell_type": "code",
   "execution_count": null,
   "metadata": {
    "collapsed": false
   },
   "outputs": [],
   "source": [
    "if(isinstance(imgBGR, str)):\n",
    "    print(imgBGR)\n",
    "else: \n",
    "    imgResized = pP.resizeImg(imgBGR, 728)\n",
    "    \n",
    "    imgBinary = pP.contourBinarization(imgBGR, 3, 7, 85, 2, inverse = True, mean = False)\n",
    "\n",
    "    #Checkpoint\n",
    "    #cv2.imwrite('BSbinpy.png', imgBinary)\n",
    "\n",
    "externalSquare = pP.findTreeContours(imgBinary)\n",
    "bgrCopy = imgBGR.copy()\n",
    "cv2.drawContours(bgrCopy, [externalSquare[0]], -1, (0, 255, 0), 3)\n",
    "\n",
    "#show contour image\n",
    "# show resized and binary images\n",
    "if (not batch):\n",
    "    print(\"Length:  \" + str(len(externalSquare)) + \" type: \" + str(type(externalSquare)))\n",
    "    print(imgBGR.shape)\n",
    "    plt.subplot(131),plt.imshow(cv2.cvtColor(bgrCopy,cv2.COLOR_BGR2RGB))\n",
    "    plt.subplot(132),plt.imshow(cv2.cvtColor(imgResized,cv2.COLOR_BGR2RGB))\n",
    "    plt.subplot(133),plt.imshow(imgBinary, 'gray')\n",
    "    plt.show()"
   ]
  },
  {
   "cell_type": "markdown",
   "metadata": {},
   "source": [
    "### Validate Perspective for Biggest Square"
   ]
  },
  {
   "cell_type": "code",
   "execution_count": null,
   "metadata": {
    "collapsed": false
   },
   "outputs": [],
   "source": [
    "#Order points to identify region of interest\n",
    "#printPoints(externalSquare)\n",
    "externalOrdSquare = srt.sortPointsContours(externalSquare)\n",
    "imgValidated = pPe.perspectiveTransform(imgBGR, externalOrdSquare[2], -5)\n",
    "\n",
    "if(not batch):\n",
    "    print(externalOrdSquare[0])\n",
    "    plt.subplot(121),plt.imshow(cv2.cvtColor(imgBGR,cv2.COLOR_BGR2RGB)),plt.title('Input')\n",
    "    plt.subplot(122),plt.imshow(cv2.cvtColor(imgValidated,cv2.COLOR_BGR2RGB)),\n",
    "    plt.title('Output')\n",
    "    plt.show()"
   ]
  },
  {
   "cell_type": "markdown",
   "metadata": {},
   "source": [
    "### Validate Perspective for \"Test Square\" "
   ]
  },
  {
   "cell_type": "code",
   "execution_count": null,
   "metadata": {
    "collapsed": false
   },
   "outputs": [],
   "source": [
    "#Test Square lives inside Biggest Square and holds individual test's squares (a.k.a. X-Markers and XM Group)\n",
    "#Do the actual perspective transform (previous one was for validating test device is there, and all margins align)\n",
    "perspectiveBinary = pPe.perspectiveTransform(imgBinary, externalOrdSquare[2], -5, True)\n",
    "perspectiveBGR = pPe.perspectiveTransform(imgBGR, externalOrdSquare[2], -5)\n",
    "external = pP.findExternalContours(\n",
    "    perspectiveBinary)\n",
    "testSquareBinary = pPe.getTestSquare(perspectiveBinary, external, True)  \n",
    "testSquareBGR = pPe.getTestSquare(perspectiveBGR, external)\n",
    "\n",
    "if (not batch):\n",
    "    print(len(external))\n",
    "    plt.subplot(121),plt.imshow(perspectiveBinary, 'gray'),plt.title('Biggest Square Binary')\n",
    "    plt.subplot(122),plt.imshow(cv2.cvtColor(testSquareBGR,cv2.COLOR_BGR2RGB)),plt.title('Test Square')\n",
    "    plt.show()"
   ]
  },
  {
   "cell_type": "markdown",
   "metadata": {},
   "source": [
    "### Validate Individual Tests (a.k.a. X-M Markers)"
   ]
  },
  {
   "cell_type": "code",
   "execution_count": null,
   "metadata": {
    "collapsed": false
   },
   "outputs": [],
   "source": [
    "testSquareBGRCopy = testSquareBGR.copy()\n",
    "height, width = testSquareBGR.shape[:2]\n",
    "areaInd = (height*width/8) - 10\n",
    "#Binarization is required again because lost of details on first binarization\n",
    "contoursInd = pP.findTreeContours(pP.contourBinarization(testSquareBGR, 3, 7, 85, 2, mean = False),areaInd)\n",
    "if(len(contoursInd) == 7 ): \n",
    "    contoursInd = contoursInd[1:]\n",
    "for c in contoursInd:\n",
    "    cv2.drawContours(testSquareBGRCopy, [c], -1, (0, 255, 0), 3)\n",
    "\n",
    "if (not batch):  \n",
    "    print(\"Approx ind area: \" + str(areaInd))\n",
    "    print(\"Number of X-Markers found: \" + str(len(contoursInd)))\n",
    "#Draw contour for ind tests (a.k.a. X-Markers)\n",
    "    plt.subplot(121),plt.imshow(cv2.cvtColor(testSquareBGRCopy,cv2.COLOR_BGR2RGB))\n",
    "    plt.show()"
   ]
  },
  {
   "cell_type": "markdown",
   "metadata": {},
   "source": [
    "### Crop Individual Test's Images (a.k.a. X-M Markers)"
   ]
  },
  {
   "cell_type": "code",
   "execution_count": null,
   "metadata": {
    "collapsed": false
   },
   "outputs": [],
   "source": [
    "srt.sortTests(contoursInd)\n",
    "listTests = []\n",
    "if(len(contoursInd) == 6):\n",
    "    for i,c in enumerate(contoursInd):\n",
    "        test = pPe.getIndTest(testSquareBGR,c)\n",
    "        listTests.append(test)         \n",
    "    if (not batch):\n",
    "        for i,test in enumerate(listTests):\n",
    "            plt.subplot(321 + i),plt.imshow(cv2.cvtColor(test,cv2.COLOR_BGR2RGB))\n",
    "        plt.show()\n",
    "    print(test.shape)"
   ]
  },
  {
   "cell_type": "markdown",
   "metadata": {},
   "source": [
    "### X-Marker Analysis (a.k.a. Sitios de prueba)"
   ]
  },
  {
   "cell_type": "code",
   "execution_count": null,
   "metadata": {
    "collapsed": false
   },
   "outputs": [],
   "source": [
    "mask = inA.readMask()\n",
    "mask = pP.contourBinarization(mask, 3, 3, 75, 4, inverse = False, mean= True)\n",
    "print(mask.shape)\n",
    "\n",
    "if (not batch):\n",
    "    plt.subplot(121),plt.imshow(mask, 'gray')\n",
    "    plt.show()"
   ]
  },
  {
   "cell_type": "code",
   "execution_count": null,
   "metadata": {
    "collapsed": false
   },
   "outputs": [],
   "source": [
    "#Fixed size 90x90\n",
    "listTests = inA.resizeAll(listTests)\n",
    "listTestsBinary = []\n",
    "listTestsBinaryMask = []\n",
    "listTestsBinaryMaskEroDil = []\n",
    "\n",
    "#resized RGB\n",
    "if (not batch):\n",
    "    for i, test in enumerate(listTests):\n",
    "        plt.subplot(321 + i),plt.imshow(cv2.cvtColor(test,cv2.COLOR_BGR2RGB))\n",
    "        #Checkpoint\n",
    "        #cv2.imwrite(str(i) + 'indRespy.png', cv2.cvtColor(test,cv2.COLOR_RGB2BGR))\n",
    "    plt.show()\n",
    "\n",
    "#X-Markers resized binary\n",
    "for i, test in enumerate(listTests):\n",
    "    #Checkpoint\n",
    "    #cv2.imwrite(str(i) + 'indRespy.png', pP.BGR2gray(cv2.cvtColor(test,cv2.COLOR_RGB2BGR)))\n",
    "    testBin = pP.contourBinarization(test, 3, 3, 45, 4, Gs = 0, inverse = False, mean = True)\n",
    "    #Checkpoint\n",
    "    #cv2.imwrite(str(i) + 'indBinpy.png', testBin)\n",
    "    listTestsBinary.append(testBin)\n",
    "    if (not batch):\n",
    "        plt.subplot(321 + i),plt.imshow(testBin, 'gray')\n",
    "if (not batch):\n",
    "    plt.show()\n",
    "    print(listTestsBinary[0].shape)\n",
    "\n",
    "#X-Markers binary with mask\n",
    "for i, test in enumerate(listTestsBinary):\n",
    "    testBinMask = inA.andOperation(test, mask)\n",
    "    #Checkpoint\n",
    "    #cv2.imwrite(str(i) + 'indBinMaskpy.png', testBinMask)\n",
    "    listTestsBinaryMask.append(testBinMask)\n",
    "    if (not batch):\n",
    "        plt.subplot(321 + i),plt.imshow(testBinMask, 'gray')\n",
    "if(not batch):\n",
    "    plt.show()\n",
    "\n",
    "# erode and dilate blobs\n",
    "for i, test in enumerate(listTestsBinaryMask):\n",
    "    test = inA.erosionDilation(test, 3)\n",
    "    #Checkpoint\n",
    "    #cv2.imwrite(str(i) + 'indEroDilpy.png', test)\n",
    "    test = cv2.bitwise_not(test)\n",
    "    #Checkpoint\n",
    "    #cv2.imwrite(str(i) + 'indNot.png', test)\n",
    "    listTestsBinaryMaskEroDil.append(test)\n",
    "    if (not batch):\n",
    "        plt.subplot(321 + i),plt.imshow(test, 'gray')\n",
    "if (not batch):\n",
    "    plt.show()"
   ]
  },
  {
   "cell_type": "code",
   "execution_count": null,
   "metadata": {
    "collapsed": false
   },
   "outputs": [],
   "source": [
    "#Blob detection\n",
    "listBlobs = []\n",
    "for i,img in enumerate(listTestsBinaryMaskEroDil):\n",
    "    imgCopy = img.copy()\n",
    "    blobs = inA.blobDetect(img)\n",
    "    listBlobs.append(blobs)\n",
    "    if(not batch):\n",
    "        if(operator.mod(i,2) != 0): #Print two by line\n",
    "            print(\"Blobs detected: \" + str(len(listBlobs[i-1])) + \n",
    "              \" Blobs detected: \" + str(len(listBlobs[i])))\n",
    "        plt.subplot(321 + i),plt.imshow(inA.drawBlobs(imgCopy, blobs), 'gray')\n",
    "plt.show()\n",
    "\n",
    "#Test results using blobs\n",
    "for i, img in enumerate(listTestsBinary):\n",
    "    if(operator.mod(i,2) != 0): #Print two by line\n",
    "        if(not batch):\n",
    "            print(\"Result: \" + inA.blobAnalysis(img, listBlobs[i-1]) + \n",
    "              \" Area: \" + str(inA.areaEstimation(listBlobs[i-1])) +\n",
    "              \" Result: \" + inA.blobAnalysis(img, listBlobs[i]) +\n",
    "             \" Area: \" + str(inA.areaEstimation(listBlobs[i])))"
   ]
  },
  {
   "cell_type": "code",
   "execution_count": null,
   "metadata": {
    "collapsed": true
   },
   "outputs": [],
   "source": []
  }
 ],
 "metadata": {
  "anaconda-cloud": {},
  "kernelspec": {
   "display_name": "Python 3",
   "language": "python",
   "name": "python3"
  },
  "language_info": {
   "codemirror_mode": {
    "name": "ipython",
    "version": 3
   },
   "file_extension": ".py",
   "mimetype": "text/x-python",
   "name": "python",
   "nbconvert_exporter": "python",
   "pygments_lexer": "ipython3",
   "version": "3.6.0"
  }
 },
 "nbformat": 4,
 "nbformat_minor": 2
}
