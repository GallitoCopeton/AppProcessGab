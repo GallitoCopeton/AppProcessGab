{
 "cells": [
  {
   "cell_type": "code",
   "execution_count": 1,
   "metadata": {
    "collapsed": false
   },
   "outputs": [],
   "source": [
    "import numpy as np\n",
    "import cv2\n",
    "import operator\n",
    "from matplotlib import pyplot as plt\n",
    "import sys \n",
    "import pprint\n",
    "\n",
    "#Scripts para leer y procesar imagen\n",
    "sys.path.insert(0, '../Golden Master (AS IS)')\n",
    "import readImage\n",
    "import preProcessing as pPs\n",
    "import processing as pP"
   ]
  },
  {
   "cell_type": "code",
   "execution_count": 2,
   "metadata": {
    "collapsed": true
   },
   "outputs": [],
   "source": [
    "input = ['601170500100271']\n",
    "output = []"
   ]
  },
  {
   "cell_type": "code",
   "execution_count": 3,
   "metadata": {
    "collapsed": false
   },
   "outputs": [],
   "source": [
    "### Read Image\n",
    "outputRI = readImage.readImage(input[0], count = 0)\n",
    "#save output log to DB (optional)\n",
    "#display image (optional)"
   ]
  },
  {
   "cell_type": "code",
   "execution_count": 4,
   "metadata": {
    "collapsed": true
   },
   "outputs": [],
   "source": [
    "### Image Quality Test\n",
    "## Return 1 if it is blurry\n",
    "blurry = pPs.isBlurry(outputRI)"
   ]
  },
  {
   "cell_type": "code",
   "execution_count": 5,
   "metadata": {
    "collapsed": false
   },
   "outputs": [
    {
     "name": "stdout",
     "output_type": "stream",
     "text": [
      "0, 1\n",
      "1, 1\n",
      "2, 1\n",
      "3, 0\n"
     ]
    }
   ],
   "source": [
    "## Find Biggest Square\n",
    "##  Find Counturs Biggest Square\n",
    "##  Sort points of every contour\n",
    "##  Perspective Transform for Biggest Square\n",
    "inputBS = outputRI\n",
    "outputBS = pP.biggestSquare(inputBS)"
   ]
  },
  {
   "cell_type": "code",
   "execution_count": 6,
   "metadata": {
    "collapsed": false
   },
   "outputs": [
    {
     "name": "stdout",
     "output_type": "stream",
     "text": [
      "[[[159 159 147]\n",
      "  [160 160 148]\n",
      "  [160 160 148]\n",
      "  ..., \n",
      "  [177 173 162]\n",
      "  [176 172 161]\n",
      "  [175 171 160]]\n",
      "\n",
      " [[159 159 147]\n",
      "  [160 160 148]\n",
      "  [161 161 149]\n",
      "  ..., \n",
      "  [178 174 163]\n",
      "  [177 173 162]\n",
      "  [176 172 161]]\n",
      "\n",
      " [[159 159 147]\n",
      "  [161 161 149]\n",
      "  [162 162 150]\n",
      "  ..., \n",
      "  [178 174 163]\n",
      "  [177 173 162]\n",
      "  [177 173 162]]\n",
      "\n",
      " ..., \n",
      " [[161 161 149]\n",
      "  [161 161 149]\n",
      "  [161 161 149]\n",
      "  ..., \n",
      "  [162 163 147]\n",
      "  [161 162 146]\n",
      "  [161 162 146]]\n",
      "\n",
      " [[162 162 150]\n",
      "  [162 162 150]\n",
      "  [162 162 150]\n",
      "  ..., \n",
      "  [160 161 145]\n",
      "  [159 160 144]\n",
      "  [158 159 143]]\n",
      "\n",
      " [[161 161 149]\n",
      "  [161 161 149]\n",
      "  [161 161 149]\n",
      "  ..., \n",
      "  [160 161 145]\n",
      "  [159 160 144]\n",
      "  [157 158 142]]]\n"
     ]
    }
   ],
   "source": [
    "## Find X-Markers Group (a.k.a. Test Square)\n",
    "##   Set perspective X-Markers Group\n",
    "##   Adjust Offset X-Markers Group601170500100271\n",
    "##   Binarize X-Markers Group \n",
    "##   Find Contours using Binarized X-Markers Group\n",
    "##   Keep copy of RGB image for later use\n",
    "inputXG = outputBS\n",
    "outputXG = pP.findXMGroup(inputXG)"
   ]
  },
  {
   "cell_type": "code",
   "execution_count": 7,
   "metadata": {
    "collapsed": false
   },
   "outputs": [],
   "source": [
    "### Find Individual X-Markers Boxes (a.k.a. sitios de prueba)\n",
    "inputXB = outputXG\n",
    "outputXB = pP.findXMBox(inputXB)"
   ]
  },
  {
   "cell_type": "code",
   "execution_count": 8,
   "metadata": {
    "collapsed": false
   },
   "outputs": [],
   "source": [
    "## X-Marker Analisis (a.k.a. sitios de prueba)\n",
    "##   Apply Mask\n",
    "##   Erosion Dilation\n",
    "##   Blob Detection\n",
    "##   Assses Blob Areas and Assign Results\n",
    "inputXA = outputXB\n",
    "inputXA = pP.analizeXMBlobs(inputXA)"
   ]
  },
  {
   "cell_type": "code",
   "execution_count": 9,
   "metadata": {
    "collapsed": false
   },
   "outputs": [
    {
     "name": "stdout",
     "output_type": "stream",
     "text": [
      "{'CFP10_area': 25.975924491882324,\n",
      " 'CFP10_area_color': 28.14,\n",
      " 'CFP10_blobs': 3,\n",
      " 'CFP10_result_area': 'N',\n",
      " 'CFP10_result_blobs': 'P',\n",
      " 'Control_area': 26.605873107910156,\n",
      " 'Control_area_color': 30.62,\n",
      " 'Control_blobs': 2,\n",
      " 'Control_result_area': 'N',\n",
      " 'Control_result_blobs': 'I',\n",
      " 'ESAT6_area': 18.561739921569824,\n",
      " 'ESAT6_area_color': 24.1,\n",
      " 'ESAT6_blobs': 2,\n",
      " 'ESAT6_result_area': 'N',\n",
      " 'ESAT6_result_blobs': 'I',\n",
      " 'H2_area': 48.150184631347656,\n",
      " 'H2_area_color': 26.82,\n",
      " 'H2_blobs': 4,\n",
      " 'H2_result_area': 'P',\n",
      " 'H2_result_blobs': 'P',\n",
      " 'P24_area': 57.757591247558594,\n",
      " 'P24_area_color': 27.52,\n",
      " 'P24_blobs': 4,\n",
      " 'P24_result_area': 'P',\n",
      " 'P24_result_blobs': 'P',\n",
      " 'RV1681_area': 22.66886806488037,\n",
      " 'RV1681_area_color': 30.1,\n",
      " 'RV1681_blobs': 3,\n",
      " 'RV1681_result_area': 'N',\n",
      " 'RV1681_result_blobs': 'P',\n",
      " 'blurry': 0}\n"
     ]
    }
   ],
   "source": [
    "## Save results to disk, db or log\n",
    "if(not isinstance(inputXA, str)):\n",
    "    inputXA['blurry'] = blurry\n",
    "pprint.pprint(inputXA)"
   ]
  }
 ],
 "metadata": {
  "kernelspec": {
   "display_name": "Python 3",
   "language": "python",
   "name": "python3"
  },
  "language_info": {
   "codemirror_mode": {
    "name": "ipython",
    "version": 3
   },
   "file_extension": ".py",
   "mimetype": "text/x-python",
   "name": "python",
   "nbconvert_exporter": "python",
   "pygments_lexer": "ipython3",
   "version": "3.6.0"
  }
 },
 "nbformat": 4,
 "nbformat_minor": 2
}
